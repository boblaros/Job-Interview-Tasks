{
 "cells": [
  {
   "cell_type": "markdown",
   "id": "ea3ff347-7889-422f-b010-f42a8e47f11a",
   "metadata": {},
   "source": [
    "# Тестовое задание | Кутивадзе Георгий\n",
    "\n",
    "**Задача**:\n",
    "\n",
    "Выполнить оценку работы библиотеки по извлечению текста новости:\n",
    "- Необходимо определить полноту извлекаемого текста;\n",
    "- Оценить значимость тех частей текста, которые выделить не удалось;\n",
    "- Проанализировать и предложить изменения в алгоритм работы библиотеки.\n",
    " \n",
    "**Желаемый результат**:\n",
    "\n",
    "Заполненная таблица c:\n",
    "\n",
    "- эталоном текста для каждой новости;\n",
    "- результатами оценки полноты (сравнения эталона текста и текста, извлеченного библиотекой);\n",
    "- оценкой значимости текста, который выделить не удалось;\n",
    "- комментариями, если есть предложения по улучшению."
   ]
  },
  {
   "cell_type": "markdown",
   "id": "c1bff8d4-d201-4f86-b8be-ea31450648d5",
   "metadata": {},
   "source": [
    "## Загрузка и предобработка данных"
   ]
  },
  {
   "cell_type": "code",
   "execution_count": 1,
   "id": "fe3f5eca-191c-4125-8d3c-410b4d9d55d7",
   "metadata": {},
   "outputs": [
    {
     "name": "stderr",
     "output_type": "stream",
     "text": [
      "/opt/anaconda3/envs/kasp_test_env/lib/python3.11/site-packages/requests/__init__.py:86: RequestsDependencyWarning: Unable to find acceptable character detection dependency (chardet or charset_normalizer).\n",
      "  warnings.warn(\n",
      "/opt/anaconda3/envs/kasp_test_env/lib/python3.11/site-packages/tqdm/auto.py:21: TqdmWarning: IProgress not found. Please update jupyter and ipywidgets. See https://ipywidgets.readthedocs.io/en/stable/user_install.html\n",
      "  from .autonotebook import tqdm as notebook_tqdm\n"
     ]
    }
   ],
   "source": [
    "# загружаем библиотеки\n",
    "import pandas as pd\n",
    "from newspaper import Article\n",
    "from sentence_transformers import SentenceTransformer, util\n",
    "import matplotlib.pyplot as plt\n",
    "from difflib import SequenceMatcher\n",
    "from sklearn.feature_extraction.text import TfidfVectorizer\n",
    "from sklearn.metrics.pairwise import cosine_similarity\n",
    "from nltk.corpus import stopwords as nltk_stopwords\n",
    "import nltk"
   ]
  },
  {
   "cell_type": "code",
   "execution_count": 2,
   "id": "6df87e48-56e4-4652-b206-cd47107134eb",
   "metadata": {},
   "outputs": [],
   "source": [
    "# импортируем данные\n",
    "data = pd.read_excel('Test_check.xlsx')"
   ]
  },
  {
   "cell_type": "code",
   "execution_count": 3,
   "id": "95675506-0575-469c-b0e6-bccdf6285a90",
   "metadata": {},
   "outputs": [
    {
     "data": {
      "text/plain": [
       "50"
      ]
     },
     "execution_count": 3,
     "metadata": {},
     "output_type": "execute_result"
    }
   ],
   "source": [
    "# в данных 50 элемнтов\n",
    "len(data)"
   ]
  },
  {
   "cell_type": "code",
   "execution_count": 4,
   "id": "f6527db9-a2c6-49df-b47f-ad390f8cf043",
   "metadata": {},
   "outputs": [
    {
     "data": {
      "text/plain": [
       "URL         0\n",
       "lib_text    0\n",
       "dtype: int64"
      ]
     },
     "execution_count": 4,
     "metadata": {},
     "output_type": "execute_result"
    }
   ],
   "source": [
    "# пропусков нет\n",
    "data.isna().sum()"
   ]
  },
  {
   "cell_type": "code",
   "execution_count": 5,
   "id": "a301e0da-abc5-484b-abef-9c3ebb6ab7bf",
   "metadata": {},
   "outputs": [
    {
     "data": {
      "text/html": [
       "<div>\n",
       "<style scoped>\n",
       "    .dataframe tbody tr th:only-of-type {\n",
       "        vertical-align: middle;\n",
       "    }\n",
       "\n",
       "    .dataframe tbody tr th {\n",
       "        vertical-align: top;\n",
       "    }\n",
       "\n",
       "    .dataframe thead th {\n",
       "        text-align: right;\n",
       "    }\n",
       "</style>\n",
       "<table border=\"1\" class=\"dataframe\">\n",
       "  <thead>\n",
       "    <tr style=\"text-align: right;\">\n",
       "      <th></th>\n",
       "      <th>URL</th>\n",
       "      <th>lib_text</th>\n",
       "    </tr>\n",
       "  </thead>\n",
       "  <tbody>\n",
       "    <tr>\n",
       "      <th>0</th>\n",
       "      <td>https://expert.ru/ekonomika/vygodna-li-rossii-...</td>\n",
       "      <td>Серьезнее других от введения западных санкций ...</td>\n",
       "    </tr>\n",
       "    <tr>\n",
       "      <th>1</th>\n",
       "      <td>https://ria.ru/20250311/klyuchevaya_stavka-196...</td>\n",
       "      <td>МОСКВА, 14 фев — РИА Новости Ключевая процентн...</td>\n",
       "    </tr>\n",
       "    <tr>\n",
       "      <th>2</th>\n",
       "      <td>https://expert.ru/mnenie/denis-manturov-gosuda...</td>\n",
       "      <td>Со следующего года начнется реализация 12 мега...</td>\n",
       "    </tr>\n",
       "    <tr>\n",
       "      <th>3</th>\n",
       "      <td>https://ria.ru/20250304/kredity-2003042476.html</td>\n",
       "      <td>Самозапрет на кредиты - это новая возможность ...</td>\n",
       "    </tr>\n",
       "    <tr>\n",
       "      <th>4</th>\n",
       "      <td>https://lenta.ru/brief/2025/03/11/green/</td>\n",
       "      <td>Заходя в магазин, вы часто замечали зеленые уп...</td>\n",
       "    </tr>\n",
       "  </tbody>\n",
       "</table>\n",
       "</div>"
      ],
      "text/plain": [
       "                                                 URL  \\\n",
       "0  https://expert.ru/ekonomika/vygodna-li-rossii-...   \n",
       "1  https://ria.ru/20250311/klyuchevaya_stavka-196...   \n",
       "2  https://expert.ru/mnenie/denis-manturov-gosuda...   \n",
       "3    https://ria.ru/20250304/kredity-2003042476.html   \n",
       "4           https://lenta.ru/brief/2025/03/11/green/   \n",
       "\n",
       "                                            lib_text  \n",
       "0  Серьезнее других от введения западных санкций ...  \n",
       "1  МОСКВА, 14 фев — РИА Новости Ключевая процентн...  \n",
       "2  Со следующего года начнется реализация 12 мега...  \n",
       "3  Самозапрет на кредиты - это новая возможность ...  \n",
       "4  Заходя в магазин, вы часто замечали зеленые уп...  "
      ]
     },
     "execution_count": 5,
     "metadata": {},
     "output_type": "execute_result"
    }
   ],
   "source": [
    "# первый столбец - ссылка, второй - извлеченный библиотекой текст новости\n",
    "data.head()"
   ]
  },
  {
   "cell_type": "markdown",
   "id": "6d860b7c-91d9-424a-a3de-4b6551d94473",
   "metadata": {},
   "source": [
    "## Оценка работы по извлючению текста из новости"
   ]
  },
  {
   "cell_type": "markdown",
   "id": "3e029dc8-c54b-4285-a433-7a68bfb7f07b",
   "metadata": {},
   "source": [
    "Как определено в задаче, оценка должна состоять из таких аспектов, как `Полнота` и `Значимость не выделенного текста`. Для их реализации сперва запарсим новости и создатим в нашей таблице столбец с полным текстом новости."
   ]
  },
  {
   "cell_type": "code",
   "execution_count": 6,
   "id": "77f57f0e-e7ff-4559-ac09-117ef842fd1a",
   "metadata": {},
   "outputs": [],
   "source": [
    "# Функция для парсинга новостей по url\n",
    "\n",
    "def get_full_text(url):\n",
    "    try:\n",
    "        article = Article(url)\n",
    "        article.download()\n",
    "        article.parse()\n",
    "        return article.text\n",
    "    except:\n",
    "        return ''"
   ]
  },
  {
   "cell_type": "code",
   "execution_count": 7,
   "id": "3c634807-a18d-4d9c-9c65-89de180a2492",
   "metadata": {},
   "outputs": [],
   "source": [
    "# применим функцию ко всем ссылкам\n",
    "data['full_text'] = data['URL'].apply(get_full_text)"
   ]
  },
  {
   "cell_type": "code",
   "execution_count": 8,
   "id": "5d7e5f7e-31a9-49cc-b24c-b058cbce40a2",
   "metadata": {},
   "outputs": [
    {
     "data": {
      "text/html": [
       "<div>\n",
       "<style scoped>\n",
       "    .dataframe tbody tr th:only-of-type {\n",
       "        vertical-align: middle;\n",
       "    }\n",
       "\n",
       "    .dataframe tbody tr th {\n",
       "        vertical-align: top;\n",
       "    }\n",
       "\n",
       "    .dataframe thead th {\n",
       "        text-align: right;\n",
       "    }\n",
       "</style>\n",
       "<table border=\"1\" class=\"dataframe\">\n",
       "  <thead>\n",
       "    <tr style=\"text-align: right;\">\n",
       "      <th></th>\n",
       "      <th>URL</th>\n",
       "      <th>lib_text</th>\n",
       "      <th>full_text</th>\n",
       "    </tr>\n",
       "  </thead>\n",
       "  <tbody>\n",
       "    <tr>\n",
       "      <th>0</th>\n",
       "      <td>https://expert.ru/ekonomika/vygodna-li-rossii-...</td>\n",
       "      <td>Серьезнее других от введения западных санкций ...</td>\n",
       "      <td>Новая команда президента США Трампа почти сраз...</td>\n",
       "    </tr>\n",
       "    <tr>\n",
       "      <th>1</th>\n",
       "      <td>https://ria.ru/20250311/klyuchevaya_stavka-196...</td>\n",
       "      <td>МОСКВА, 14 фев — РИА Новости Ключевая процентн...</td>\n",
       "      <td>https://ria.ru/20250525/klyuchevaya_stavka-196...</td>\n",
       "    </tr>\n",
       "    <tr>\n",
       "      <th>2</th>\n",
       "      <td>https://expert.ru/mnenie/denis-manturov-gosuda...</td>\n",
       "      <td>Со следующего года начнется реализация 12 мега...</td>\n",
       "      <td>В начале июля в Екатеринбурге состоится выстав...</td>\n",
       "    </tr>\n",
       "    <tr>\n",
       "      <th>3</th>\n",
       "      <td>https://ria.ru/20250304/kredity-2003042476.html</td>\n",
       "      <td>Самозапрет на кредиты - это новая возможность ...</td>\n",
       "      <td>https://ria.ru/20250430/kredity-2003042476.htm...</td>\n",
       "    </tr>\n",
       "    <tr>\n",
       "      <th>4</th>\n",
       "      <td>https://lenta.ru/brief/2025/03/11/green/</td>\n",
       "      <td>Заходя в магазин, вы часто замечали зеленые уп...</td>\n",
       "      <td>4\\n\\nКакие компании уже уличали в гринвошинге?...</td>\n",
       "    </tr>\n",
       "  </tbody>\n",
       "</table>\n",
       "</div>"
      ],
      "text/plain": [
       "                                                 URL  \\\n",
       "0  https://expert.ru/ekonomika/vygodna-li-rossii-...   \n",
       "1  https://ria.ru/20250311/klyuchevaya_stavka-196...   \n",
       "2  https://expert.ru/mnenie/denis-manturov-gosuda...   \n",
       "3    https://ria.ru/20250304/kredity-2003042476.html   \n",
       "4           https://lenta.ru/brief/2025/03/11/green/   \n",
       "\n",
       "                                            lib_text  \\\n",
       "0  Серьезнее других от введения западных санкций ...   \n",
       "1  МОСКВА, 14 фев — РИА Новости Ключевая процентн...   \n",
       "2  Со следующего года начнется реализация 12 мега...   \n",
       "3  Самозапрет на кредиты - это новая возможность ...   \n",
       "4  Заходя в магазин, вы часто замечали зеленые уп...   \n",
       "\n",
       "                                           full_text  \n",
       "0  Новая команда президента США Трампа почти сраз...  \n",
       "1  https://ria.ru/20250525/klyuchevaya_stavka-196...  \n",
       "2  В начале июля в Екатеринбурге состоится выстав...  \n",
       "3  https://ria.ru/20250430/kredity-2003042476.htm...  \n",
       "4  4\\n\\nКакие компании уже уличали в гринвошинге?...  "
      ]
     },
     "execution_count": 8,
     "metadata": {},
     "output_type": "execute_result"
    }
   ],
   "source": [
    "# взглянем на обновленный датасет\n",
    "data.head()"
   ]
  },
  {
   "cell_type": "markdown",
   "id": "5c43f2ea-4484-4a8c-8e29-363b3294174d",
   "metadata": {},
   "source": [
    "Теперь можно переходить к оценке."
   ]
  },
  {
   "cell_type": "markdown",
   "id": "97f1c315-b39e-46c8-8666-c9d84e46e1bc",
   "metadata": {},
   "source": [
    "### Оценка полноты"
   ]
  },
  {
   "cell_type": "markdown",
   "id": "510386d2-0726-49a5-97b7-09471f169e82",
   "metadata": {},
   "source": [
    "Для оценки полноты напишем функцию, которая преобразует новости в векторные представления (эмбеддинги) и оценивает их семантическую схожесть (другими словами считает косинусное сходство векторов). Таким образом, чем ближе значение к 1, тем больше извлечённый текст будет \"покрывает\" смысл полного текста."
   ]
  },
  {
   "cell_type": "code",
   "execution_count": 9,
   "id": "79a5cfd0-f72b-450d-a2ba-961ec10411e0",
   "metadata": {},
   "outputs": [],
   "source": [
    "model = SentenceTransformer('paraphrase-MiniLM-L6-v2')\n",
    "\n",
    "def completeness_score(extracted, full):\n",
    "    if not extracted or not full:\n",
    "        return 0\n",
    "    emb_ext = model.encode(extracted, convert_to_tensor=True)\n",
    "    emb_full = model.encode(full, convert_to_tensor=True)\n",
    "    return float(util.cos_sim(emb_ext, emb_full))"
   ]
  },
  {
   "cell_type": "code",
   "execution_count": 10,
   "id": "6e9f3836-7d6a-4d6e-9976-ba19d57036f6",
   "metadata": {},
   "outputs": [],
   "source": [
    "data['completeness_score'] = data.apply(lambda row: completeness_score(row['lib_text'], row['full_text']), axis=1)"
   ]
  },
  {
   "cell_type": "markdown",
   "id": "0bc40641-0c0b-42c7-a2c8-1bd25123b80d",
   "metadata": {},
   "source": [
    "Взглянем на обновленную таблицу:"
   ]
  },
  {
   "cell_type": "code",
   "execution_count": 11,
   "id": "88b5b5b0-588a-411e-80ba-6e244776d25c",
   "metadata": {},
   "outputs": [
    {
     "data": {
      "text/html": [
       "<div>\n",
       "<style scoped>\n",
       "    .dataframe tbody tr th:only-of-type {\n",
       "        vertical-align: middle;\n",
       "    }\n",
       "\n",
       "    .dataframe tbody tr th {\n",
       "        vertical-align: top;\n",
       "    }\n",
       "\n",
       "    .dataframe thead th {\n",
       "        text-align: right;\n",
       "    }\n",
       "</style>\n",
       "<table border=\"1\" class=\"dataframe\">\n",
       "  <thead>\n",
       "    <tr style=\"text-align: right;\">\n",
       "      <th></th>\n",
       "      <th>URL</th>\n",
       "      <th>lib_text</th>\n",
       "      <th>full_text</th>\n",
       "      <th>completeness_score</th>\n",
       "    </tr>\n",
       "  </thead>\n",
       "  <tbody>\n",
       "    <tr>\n",
       "      <th>0</th>\n",
       "      <td>https://expert.ru/ekonomika/vygodna-li-rossii-...</td>\n",
       "      <td>Серьезнее других от введения западных санкций ...</td>\n",
       "      <td>Новая команда президента США Трампа почти сраз...</td>\n",
       "      <td>0.963758</td>\n",
       "    </tr>\n",
       "    <tr>\n",
       "      <th>1</th>\n",
       "      <td>https://ria.ru/20250311/klyuchevaya_stavka-196...</td>\n",
       "      <td>МОСКВА, 14 фев — РИА Новости Ключевая процентн...</td>\n",
       "      <td>https://ria.ru/20250525/klyuchevaya_stavka-196...</td>\n",
       "      <td>0.823774</td>\n",
       "    </tr>\n",
       "    <tr>\n",
       "      <th>2</th>\n",
       "      <td>https://expert.ru/mnenie/denis-manturov-gosuda...</td>\n",
       "      <td>Со следующего года начнется реализация 12 мега...</td>\n",
       "      <td>В начале июля в Екатеринбурге состоится выстав...</td>\n",
       "      <td>0.978006</td>\n",
       "    </tr>\n",
       "    <tr>\n",
       "      <th>3</th>\n",
       "      <td>https://ria.ru/20250304/kredity-2003042476.html</td>\n",
       "      <td>Самозапрет на кредиты - это новая возможность ...</td>\n",
       "      <td>https://ria.ru/20250430/kredity-2003042476.htm...</td>\n",
       "      <td>0.853931</td>\n",
       "    </tr>\n",
       "    <tr>\n",
       "      <th>4</th>\n",
       "      <td>https://lenta.ru/brief/2025/03/11/green/</td>\n",
       "      <td>Заходя в магазин, вы часто замечали зеленые уп...</td>\n",
       "      <td>4\\n\\nКакие компании уже уличали в гринвошинге?...</td>\n",
       "      <td>0.806705</td>\n",
       "    </tr>\n",
       "  </tbody>\n",
       "</table>\n",
       "</div>"
      ],
      "text/plain": [
       "                                                 URL  \\\n",
       "0  https://expert.ru/ekonomika/vygodna-li-rossii-...   \n",
       "1  https://ria.ru/20250311/klyuchevaya_stavka-196...   \n",
       "2  https://expert.ru/mnenie/denis-manturov-gosuda...   \n",
       "3    https://ria.ru/20250304/kredity-2003042476.html   \n",
       "4           https://lenta.ru/brief/2025/03/11/green/   \n",
       "\n",
       "                                            lib_text  \\\n",
       "0  Серьезнее других от введения западных санкций ...   \n",
       "1  МОСКВА, 14 фев — РИА Новости Ключевая процентн...   \n",
       "2  Со следующего года начнется реализация 12 мега...   \n",
       "3  Самозапрет на кредиты - это новая возможность ...   \n",
       "4  Заходя в магазин, вы часто замечали зеленые уп...   \n",
       "\n",
       "                                           full_text  completeness_score  \n",
       "0  Новая команда президента США Трампа почти сраз...            0.963758  \n",
       "1  https://ria.ru/20250525/klyuchevaya_stavka-196...            0.823774  \n",
       "2  В начале июля в Екатеринбурге состоится выстав...            0.978006  \n",
       "3  https://ria.ru/20250430/kredity-2003042476.htm...            0.853931  \n",
       "4  4\\n\\nКакие компании уже уличали в гринвошинге?...            0.806705  "
      ]
     },
     "execution_count": 11,
     "metadata": {},
     "output_type": "execute_result"
    }
   ],
   "source": [
    "data.head()"
   ]
  },
  {
   "cell_type": "markdown",
   "id": "ebbb09b5-e184-412d-9dcb-15ee6ad1d551",
   "metadata": {},
   "source": [
    "### Извлечение «непокрытого» текста"
   ]
  },
  {
   "cell_type": "markdown",
   "id": "7368d54d-ac45-41f2-9a16-afe978be78da",
   "metadata": {},
   "source": [
    "Для оценки того, что осталось неучтённым, напишем функцию, которая сравнивает извлечённый и полный тексты, находит все совпадающие фрагменты и возвращает те части полного текста, которые не были затронуты в извлечённом:"
   ]
  },
  {
   "cell_type": "code",
   "execution_count": 12,
   "id": "9370177a-7590-4cd0-910d-865aa0a5bd20",
   "metadata": {},
   "outputs": [],
   "source": [
    "# функция, возвращающая неучтенный текст\n",
    "\n",
    "def get_uncovered_text(full, extracted):\n",
    "    matcher = SequenceMatcher(None, extracted, full)\n",
    "    blocks = matcher.get_matching_blocks()\n",
    "    extracted_indices = [(block.b, block.b + block.size) for block in blocks]\n",
    "    \n",
    "    uncovered = ''\n",
    "    prev_end = 0\n",
    "    for start, end in extracted_indices:\n",
    "        uncovered += full[prev_end:start]\n",
    "        prev_end = end\n",
    "    uncovered += full[prev_end:]\n",
    "    return uncovered.strip()"
   ]
  },
  {
   "cell_type": "code",
   "execution_count": 13,
   "id": "2ce19187-4ba0-4890-93bc-687aa94c922d",
   "metadata": {},
   "outputs": [],
   "source": [
    "# применим функцию ко всем новостям\n",
    "data['uncovered_text'] = data.apply(lambda row: get_uncovered_text(row['full_text'], row['lib_text']), axis=1)"
   ]
  },
  {
   "cell_type": "markdown",
   "id": "68370372-0982-4a9b-9b4d-0fe6ed83d1f8",
   "metadata": {},
   "source": [
    "Взглянем на обновленную таблицу:"
   ]
  },
  {
   "cell_type": "code",
   "execution_count": 14,
   "id": "74c9911b-42eb-4cbd-9fb6-f82e682b8bb1",
   "metadata": {
    "scrolled": true
   },
   "outputs": [
    {
     "data": {
      "text/html": [
       "<div>\n",
       "<style scoped>\n",
       "    .dataframe tbody tr th:only-of-type {\n",
       "        vertical-align: middle;\n",
       "    }\n",
       "\n",
       "    .dataframe tbody tr th {\n",
       "        vertical-align: top;\n",
       "    }\n",
       "\n",
       "    .dataframe thead th {\n",
       "        text-align: right;\n",
       "    }\n",
       "</style>\n",
       "<table border=\"1\" class=\"dataframe\">\n",
       "  <thead>\n",
       "    <tr style=\"text-align: right;\">\n",
       "      <th></th>\n",
       "      <th>URL</th>\n",
       "      <th>lib_text</th>\n",
       "      <th>full_text</th>\n",
       "      <th>completeness_score</th>\n",
       "      <th>uncovered_text</th>\n",
       "    </tr>\n",
       "  </thead>\n",
       "  <tbody>\n",
       "    <tr>\n",
       "      <th>0</th>\n",
       "      <td>https://expert.ru/ekonomika/vygodna-li-rossii-...</td>\n",
       "      <td>Серьезнее других от введения западных санкций ...</td>\n",
       "      <td>Новая команда президента США Трампа почти сраз...</td>\n",
       "      <td>0.963758</td>\n",
       "      <td>Новая команда президента США Трампа почти сраз...</td>\n",
       "    </tr>\n",
       "    <tr>\n",
       "      <th>1</th>\n",
       "      <td>https://ria.ru/20250311/klyuchevaya_stavka-196...</td>\n",
       "      <td>МОСКВА, 14 фев — РИА Новости Ключевая процентн...</td>\n",
       "      <td>https://ria.ru/20250525/klyuchevaya_stavka-196...</td>\n",
       "      <td>0.823774</td>\n",
       "      <td>https://ria.ru/20250525/klyuchevaya_stavka-196...</td>\n",
       "    </tr>\n",
       "    <tr>\n",
       "      <th>2</th>\n",
       "      <td>https://expert.ru/mnenie/denis-manturov-gosuda...</td>\n",
       "      <td>Со следующего года начнется реализация 12 мега...</td>\n",
       "      <td>В начале июля в Екатеринбурге состоится выстав...</td>\n",
       "      <td>0.978006</td>\n",
       "      <td>В начале июля в Екатеринбурге состоится выстав...</td>\n",
       "    </tr>\n",
       "    <tr>\n",
       "      <th>3</th>\n",
       "      <td>https://ria.ru/20250304/kredity-2003042476.html</td>\n",
       "      <td>Самозапрет на кредиты - это новая возможность ...</td>\n",
       "      <td>https://ria.ru/20250430/kredity-2003042476.htm...</td>\n",
       "      <td>0.853931</td>\n",
       "      <td>https://ria.ru/0430/kredity-2003042476.html\\n\\...</td>\n",
       "    </tr>\n",
       "    <tr>\n",
       "      <th>4</th>\n",
       "      <td>https://lenta.ru/brief/2025/03/11/green/</td>\n",
       "      <td>Заходя в магазин, вы часто замечали зеленые уп...</td>\n",
       "      <td>4\\n\\nКакие компании уже уличали в гринвошинге?...</td>\n",
       "      <td>0.806705</td>\n",
       "      <td>4\\n\\nКакие компании уже улили ве?\\n\\n\\n\\n\\n\\n\\...</td>\n",
       "    </tr>\n",
       "  </tbody>\n",
       "</table>\n",
       "</div>"
      ],
      "text/plain": [
       "                                                 URL  \\\n",
       "0  https://expert.ru/ekonomika/vygodna-li-rossii-...   \n",
       "1  https://ria.ru/20250311/klyuchevaya_stavka-196...   \n",
       "2  https://expert.ru/mnenie/denis-manturov-gosuda...   \n",
       "3    https://ria.ru/20250304/kredity-2003042476.html   \n",
       "4           https://lenta.ru/brief/2025/03/11/green/   \n",
       "\n",
       "                                            lib_text  \\\n",
       "0  Серьезнее других от введения западных санкций ...   \n",
       "1  МОСКВА, 14 фев — РИА Новости Ключевая процентн...   \n",
       "2  Со следующего года начнется реализация 12 мега...   \n",
       "3  Самозапрет на кредиты - это новая возможность ...   \n",
       "4  Заходя в магазин, вы часто замечали зеленые уп...   \n",
       "\n",
       "                                           full_text  completeness_score  \\\n",
       "0  Новая команда президента США Трампа почти сраз...            0.963758   \n",
       "1  https://ria.ru/20250525/klyuchevaya_stavka-196...            0.823774   \n",
       "2  В начале июля в Екатеринбурге состоится выстав...            0.978006   \n",
       "3  https://ria.ru/20250430/kredity-2003042476.htm...            0.853931   \n",
       "4  4\\n\\nКакие компании уже уличали в гринвошинге?...            0.806705   \n",
       "\n",
       "                                      uncovered_text  \n",
       "0  Новая команда президента США Трампа почти сраз...  \n",
       "1  https://ria.ru/20250525/klyuchevaya_stavka-196...  \n",
       "2  В начале июля в Екатеринбурге состоится выстав...  \n",
       "3  https://ria.ru/0430/kredity-2003042476.html\\n\\...  \n",
       "4  4\\n\\nКакие компании уже улили ве?\\n\\n\\n\\n\\n\\n\\...  "
      ]
     },
     "execution_count": 14,
     "metadata": {},
     "output_type": "execute_result"
    }
   ],
   "source": [
    "data.head()"
   ]
  },
  {
   "cell_type": "markdown",
   "id": "dc6f83e1-ec87-4a86-811c-6dd674f54b92",
   "metadata": {},
   "source": [
    "## Оценка значимости не извлеченного текста"
   ]
  },
  {
   "cell_type": "markdown",
   "id": "50feab4d-76cd-4442-9c40-f92318dbbe9d",
   "metadata": {},
   "source": [
    "Применим два способа для оценки значимости - суммарное значение `TF-IDF` и `семантическую близость`."
   ]
  },
  {
   "cell_type": "markdown",
   "id": "eb15a1b4-ec67-4f81-a97d-f2b7c39fa7b9",
   "metadata": {},
   "source": [
    "### Cуммарная TF-IDF-значимость"
   ]
  },
  {
   "cell_type": "markdown",
   "id": "c4d01d5e-8de8-466d-b7e0-f4348ccaf505",
   "metadata": {},
   "source": [
    "В рамках первого способа измерим важность по TF-IDF или частоте ключевых слов. В качестве оценки будет выступать суммарную TF-IDF-значимость топ-5 популярных слов."
   ]
  },
  {
   "cell_type": "code",
   "execution_count": 15,
   "id": "bc52beab-e25c-4579-ba4f-e5c659aeed96",
   "metadata": {},
   "outputs": [
    {
     "name": "stderr",
     "output_type": "stream",
     "text": [
      "[nltk_data] Downloading package stopwords to\n",
      "[nltk_data]     /Users/georgijkutivadze/nltk_data...\n",
      "[nltk_data]   Package stopwords is already up-to-date!\n"
     ]
    }
   ],
   "source": [
    "nltk.download('stopwords')\n",
    "russian_stopwords = list(nltk_stopwords.words('russian'))"
   ]
  },
  {
   "cell_type": "code",
   "execution_count": 16,
   "id": "b04b1a6a-e990-4765-b8c1-57d39a51b424",
   "metadata": {},
   "outputs": [],
   "source": [
    "def get_tfidf_significance(texts, n=5):\n",
    "    tfidf = TfidfVectorizer(stop_words=russian_stopwords)\n",
    "    tfidf_matrix = tfidf.fit_transform(texts)\n",
    "    feature_names = tfidf.get_feature_names_out()\n",
    "\n",
    "    def significance_for_index(i):\n",
    "        row = tfidf_matrix[i].toarray()[0]\n",
    "        total = sorted(row, reverse=True)[:n]\n",
    "        total = sum(total)\n",
    "        return total\n",
    "\n",
    "    return significance_for_index"
   ]
  },
  {
   "cell_type": "code",
   "execution_count": 17,
   "id": "c85e6cb5-abe4-469b-acfe-ba3446e6f44a",
   "metadata": {},
   "outputs": [],
   "source": [
    "texts = data['uncovered_text'].fillna('').tolist()\n",
    "\n",
    "# Получим функцию, которая знает, как считать значимость по TF-IDF\n",
    "sig_fn = get_tfidf_significance(texts)\n",
    "\n",
    "# Применяем к каждой новости по индексу\n",
    "data['tfidf_significance'] = [sig_fn(i) for i in range(len(data))]"
   ]
  },
  {
   "cell_type": "markdown",
   "id": "5200e852-d7ee-4435-9d9a-ca59a6a9f9b7",
   "metadata": {},
   "source": [
    "Взглянем на обновленную таблицу:"
   ]
  },
  {
   "cell_type": "code",
   "execution_count": 18,
   "id": "6d57f52c-743c-416b-8a36-a7de35612027",
   "metadata": {},
   "outputs": [
    {
     "data": {
      "text/html": [
       "<div>\n",
       "<style scoped>\n",
       "    .dataframe tbody tr th:only-of-type {\n",
       "        vertical-align: middle;\n",
       "    }\n",
       "\n",
       "    .dataframe tbody tr th {\n",
       "        vertical-align: top;\n",
       "    }\n",
       "\n",
       "    .dataframe thead th {\n",
       "        text-align: right;\n",
       "    }\n",
       "</style>\n",
       "<table border=\"1\" class=\"dataframe\">\n",
       "  <thead>\n",
       "    <tr style=\"text-align: right;\">\n",
       "      <th></th>\n",
       "      <th>URL</th>\n",
       "      <th>lib_text</th>\n",
       "      <th>full_text</th>\n",
       "      <th>completeness_score</th>\n",
       "      <th>uncovered_text</th>\n",
       "      <th>tfidf_significance</th>\n",
       "    </tr>\n",
       "  </thead>\n",
       "  <tbody>\n",
       "    <tr>\n",
       "      <th>0</th>\n",
       "      <td>https://expert.ru/ekonomika/vygodna-li-rossii-...</td>\n",
       "      <td>Серьезнее других от введения западных санкций ...</td>\n",
       "      <td>Новая команда президента США Трампа почти сраз...</td>\n",
       "      <td>0.963758</td>\n",
       "      <td>Новая команда президента США Трампа почти сраз...</td>\n",
       "      <td>1.060521</td>\n",
       "    </tr>\n",
       "    <tr>\n",
       "      <th>1</th>\n",
       "      <td>https://ria.ru/20250311/klyuchevaya_stavka-196...</td>\n",
       "      <td>МОСКВА, 14 фев — РИА Новости Ключевая процентн...</td>\n",
       "      <td>https://ria.ru/20250525/klyuchevaya_stavka-196...</td>\n",
       "      <td>0.823774</td>\n",
       "      <td>https://ria.ru/20250525/klyuchevaya_stavka-196...</td>\n",
       "      <td>1.397979</td>\n",
       "    </tr>\n",
       "    <tr>\n",
       "      <th>2</th>\n",
       "      <td>https://expert.ru/mnenie/denis-manturov-gosuda...</td>\n",
       "      <td>Со следующего года начнется реализация 12 мега...</td>\n",
       "      <td>В начале июля в Екатеринбурге состоится выстав...</td>\n",
       "      <td>0.978006</td>\n",
       "      <td>В начале июля в Екатеринбурге состоится выстав...</td>\n",
       "      <td>1.184461</td>\n",
       "    </tr>\n",
       "    <tr>\n",
       "      <th>3</th>\n",
       "      <td>https://ria.ru/20250304/kredity-2003042476.html</td>\n",
       "      <td>Самозапрет на кредиты - это новая возможность ...</td>\n",
       "      <td>https://ria.ru/20250430/kredity-2003042476.htm...</td>\n",
       "      <td>0.853931</td>\n",
       "      <td>https://ria.ru/0430/kredity-2003042476.html\\n\\...</td>\n",
       "      <td>1.365359</td>\n",
       "    </tr>\n",
       "    <tr>\n",
       "      <th>4</th>\n",
       "      <td>https://lenta.ru/brief/2025/03/11/green/</td>\n",
       "      <td>Заходя в магазин, вы часто замечали зеленые уп...</td>\n",
       "      <td>4\\n\\nКакие компании уже уличали в гринвошинге?...</td>\n",
       "      <td>0.806705</td>\n",
       "      <td>4\\n\\nКакие компании уже улили ве?\\n\\n\\n\\n\\n\\n\\...</td>\n",
       "      <td>1.262709</td>\n",
       "    </tr>\n",
       "  </tbody>\n",
       "</table>\n",
       "</div>"
      ],
      "text/plain": [
       "                                                 URL  \\\n",
       "0  https://expert.ru/ekonomika/vygodna-li-rossii-...   \n",
       "1  https://ria.ru/20250311/klyuchevaya_stavka-196...   \n",
       "2  https://expert.ru/mnenie/denis-manturov-gosuda...   \n",
       "3    https://ria.ru/20250304/kredity-2003042476.html   \n",
       "4           https://lenta.ru/brief/2025/03/11/green/   \n",
       "\n",
       "                                            lib_text  \\\n",
       "0  Серьезнее других от введения западных санкций ...   \n",
       "1  МОСКВА, 14 фев — РИА Новости Ключевая процентн...   \n",
       "2  Со следующего года начнется реализация 12 мега...   \n",
       "3  Самозапрет на кредиты - это новая возможность ...   \n",
       "4  Заходя в магазин, вы часто замечали зеленые уп...   \n",
       "\n",
       "                                           full_text  completeness_score  \\\n",
       "0  Новая команда президента США Трампа почти сраз...            0.963758   \n",
       "1  https://ria.ru/20250525/klyuchevaya_stavka-196...            0.823774   \n",
       "2  В начале июля в Екатеринбурге состоится выстав...            0.978006   \n",
       "3  https://ria.ru/20250430/kredity-2003042476.htm...            0.853931   \n",
       "4  4\\n\\nКакие компании уже уличали в гринвошинге?...            0.806705   \n",
       "\n",
       "                                      uncovered_text  tfidf_significance  \n",
       "0  Новая команда президента США Трампа почти сраз...            1.060521  \n",
       "1  https://ria.ru/20250525/klyuchevaya_stavka-196...            1.397979  \n",
       "2  В начале июля в Екатеринбурге состоится выстав...            1.184461  \n",
       "3  https://ria.ru/0430/kredity-2003042476.html\\n\\...            1.365359  \n",
       "4  4\\n\\nКакие компании уже улили ве?\\n\\n\\n\\n\\n\\n\\...            1.262709  "
      ]
     },
     "execution_count": 18,
     "metadata": {},
     "output_type": "execute_result"
    }
   ],
   "source": [
    "data.head()"
   ]
  },
  {
   "cell_type": "markdown",
   "id": "90b2578c-b04f-466e-a4ac-3e73b0200560",
   "metadata": {},
   "source": [
    "### Семантическая близость"
   ]
  },
  {
   "cell_type": "markdown",
   "id": "b2b02168-03b9-4b91-b4d2-7ac870a6a3cb",
   "metadata": {},
   "source": [
    "Оценим семантическую близость схожим образом с тем, как мы считали выше полноту. Разница будет в том, что мы будем оценить косинусовые расстояние между TF-IDF векторными представлениями (дело в том, что нам важно учесть количество слов, а также важность каждого слова в документе).\n",
    "\n",
    "Для этого также напишем функцию:"
   ]
  },
  {
   "cell_type": "code",
   "execution_count": 19,
   "id": "97583075-2943-4181-b764-7c4d34b2ac8a",
   "metadata": {},
   "outputs": [],
   "source": [
    "def semantic_difference(extracted, full):\n",
    "    if not extracted or not full:\n",
    "        return 1.0  # максимум расхождения\n",
    "    vect = TfidfVectorizer(stop_words=russian_stopwords)\n",
    "    try:\n",
    "        tfidf = vect.fit_transform([extracted, full])\n",
    "        sim = cosine_similarity(tfidf[0:1], tfidf[1:2])[0][0]\n",
    "        return 1 - sim  # чем больше, тем больше потеряно\n",
    "    except:\n",
    "        return 1.0"
   ]
  },
  {
   "cell_type": "code",
   "execution_count": 20,
   "id": "9f7ceec6-23ff-4fb1-9748-76fdd6a75cf7",
   "metadata": {},
   "outputs": [],
   "source": [
    "# применим функцию к новостям\n",
    "data['semantic_gap'] = data.apply(lambda row: semantic_difference(row['lib_text'], row['full_text']), axis=1)"
   ]
  },
  {
   "cell_type": "code",
   "execution_count": 21,
   "id": "b593795e-a3d5-4ac6-8f5b-357b700c0b85",
   "metadata": {},
   "outputs": [
    {
     "data": {
      "text/html": [
       "<div>\n",
       "<style scoped>\n",
       "    .dataframe tbody tr th:only-of-type {\n",
       "        vertical-align: middle;\n",
       "    }\n",
       "\n",
       "    .dataframe tbody tr th {\n",
       "        vertical-align: top;\n",
       "    }\n",
       "\n",
       "    .dataframe thead th {\n",
       "        text-align: right;\n",
       "    }\n",
       "</style>\n",
       "<table border=\"1\" class=\"dataframe\">\n",
       "  <thead>\n",
       "    <tr style=\"text-align: right;\">\n",
       "      <th></th>\n",
       "      <th>URL</th>\n",
       "      <th>lib_text</th>\n",
       "      <th>full_text</th>\n",
       "      <th>completeness_score</th>\n",
       "      <th>uncovered_text</th>\n",
       "      <th>tfidf_significance</th>\n",
       "      <th>semantic_gap</th>\n",
       "    </tr>\n",
       "  </thead>\n",
       "  <tbody>\n",
       "    <tr>\n",
       "      <th>0</th>\n",
       "      <td>https://expert.ru/ekonomika/vygodna-li-rossii-...</td>\n",
       "      <td>Серьезнее других от введения западных санкций ...</td>\n",
       "      <td>Новая команда президента США Трампа почти сраз...</td>\n",
       "      <td>0.963758</td>\n",
       "      <td>Новая команда президента США Трампа почти сраз...</td>\n",
       "      <td>1.060521</td>\n",
       "      <td>0.019585</td>\n",
       "    </tr>\n",
       "    <tr>\n",
       "      <th>1</th>\n",
       "      <td>https://ria.ru/20250311/klyuchevaya_stavka-196...</td>\n",
       "      <td>МОСКВА, 14 фев — РИА Новости Ключевая процентн...</td>\n",
       "      <td>https://ria.ru/20250525/klyuchevaya_stavka-196...</td>\n",
       "      <td>0.823774</td>\n",
       "      <td>https://ria.ru/20250525/klyuchevaya_stavka-196...</td>\n",
       "      <td>1.397979</td>\n",
       "      <td>0.177224</td>\n",
       "    </tr>\n",
       "    <tr>\n",
       "      <th>2</th>\n",
       "      <td>https://expert.ru/mnenie/denis-manturov-gosuda...</td>\n",
       "      <td>Со следующего года начнется реализация 12 мега...</td>\n",
       "      <td>В начале июля в Екатеринбурге состоится выстав...</td>\n",
       "      <td>0.978006</td>\n",
       "      <td>В начале июля в Екатеринбурге состоится выстав...</td>\n",
       "      <td>1.184461</td>\n",
       "      <td>0.020913</td>\n",
       "    </tr>\n",
       "    <tr>\n",
       "      <th>3</th>\n",
       "      <td>https://ria.ru/20250304/kredity-2003042476.html</td>\n",
       "      <td>Самозапрет на кредиты - это новая возможность ...</td>\n",
       "      <td>https://ria.ru/20250430/kredity-2003042476.htm...</td>\n",
       "      <td>0.853931</td>\n",
       "      <td>https://ria.ru/0430/kredity-2003042476.html\\n\\...</td>\n",
       "      <td>1.365359</td>\n",
       "      <td>0.265250</td>\n",
       "    </tr>\n",
       "    <tr>\n",
       "      <th>4</th>\n",
       "      <td>https://lenta.ru/brief/2025/03/11/green/</td>\n",
       "      <td>Заходя в магазин, вы часто замечали зеленые уп...</td>\n",
       "      <td>4\\n\\nКакие компании уже уличали в гринвошинге?...</td>\n",
       "      <td>0.806705</td>\n",
       "      <td>4\\n\\nКакие компании уже улили ве?\\n\\n\\n\\n\\n\\n\\...</td>\n",
       "      <td>1.262709</td>\n",
       "      <td>0.454863</td>\n",
       "    </tr>\n",
       "  </tbody>\n",
       "</table>\n",
       "</div>"
      ],
      "text/plain": [
       "                                                 URL  \\\n",
       "0  https://expert.ru/ekonomika/vygodna-li-rossii-...   \n",
       "1  https://ria.ru/20250311/klyuchevaya_stavka-196...   \n",
       "2  https://expert.ru/mnenie/denis-manturov-gosuda...   \n",
       "3    https://ria.ru/20250304/kredity-2003042476.html   \n",
       "4           https://lenta.ru/brief/2025/03/11/green/   \n",
       "\n",
       "                                            lib_text  \\\n",
       "0  Серьезнее других от введения западных санкций ...   \n",
       "1  МОСКВА, 14 фев — РИА Новости Ключевая процентн...   \n",
       "2  Со следующего года начнется реализация 12 мега...   \n",
       "3  Самозапрет на кредиты - это новая возможность ...   \n",
       "4  Заходя в магазин, вы часто замечали зеленые уп...   \n",
       "\n",
       "                                           full_text  completeness_score  \\\n",
       "0  Новая команда президента США Трампа почти сраз...            0.963758   \n",
       "1  https://ria.ru/20250525/klyuchevaya_stavka-196...            0.823774   \n",
       "2  В начале июля в Екатеринбурге состоится выстав...            0.978006   \n",
       "3  https://ria.ru/20250430/kredity-2003042476.htm...            0.853931   \n",
       "4  4\\n\\nКакие компании уже уличали в гринвошинге?...            0.806705   \n",
       "\n",
       "                                      uncovered_text  tfidf_significance  \\\n",
       "0  Новая команда президента США Трампа почти сраз...            1.060521   \n",
       "1  https://ria.ru/20250525/klyuchevaya_stavka-196...            1.397979   \n",
       "2  В начале июля в Екатеринбурге состоится выстав...            1.184461   \n",
       "3  https://ria.ru/0430/kredity-2003042476.html\\n\\...            1.365359   \n",
       "4  4\\n\\nКакие компании уже улили ве?\\n\\n\\n\\n\\n\\n\\...            1.262709   \n",
       "\n",
       "   semantic_gap  \n",
       "0      0.019585  \n",
       "1      0.177224  \n",
       "2      0.020913  \n",
       "3      0.265250  \n",
       "4      0.454863  "
      ]
     },
     "execution_count": 21,
     "metadata": {},
     "output_type": "execute_result"
    }
   ],
   "source": [
    "# взглянем на обновленный датасет\n",
    "data.head()"
   ]
  },
  {
   "cell_type": "markdown",
   "id": "fee9679e-8ce2-4ed0-9b23-cdff3ff1dd9a",
   "metadata": {},
   "source": [
    "## Визуализация и Выводы"
   ]
  },
  {
   "cell_type": "markdown",
   "id": "421ba16f-f6b2-4cda-9a42-853c3aab1963",
   "metadata": {},
   "source": [
    "Визуализируем полученные результаты."
   ]
  },
  {
   "cell_type": "code",
   "execution_count": 22,
   "id": "6b7b0438-9121-406e-a2bf-166e9c7070fa",
   "metadata": {},
   "outputs": [
    {
     "data": {
      "image/png": "[encoded data removed]",
      "text/plain": [
       "<Figure size 640x480 with 1 Axes>"
      ]
     },
     "metadata": {},
     "output_type": "display_data"
    }
   ],
   "source": [
    "data['semantic_gap'].hist(bins=40, color='lightblue', edgecolor='black')\n",
    "plt.title(\"Распределение семантического расхождения\")\n",
    "plt.xlabel(\"Семантического расхождение (1 - кос.расст. между TD-IDF векторами)\")\n",
    "plt.ylabel(\"Количество новостей\")\n",
    "plt.grid(True)\n",
    "plt.show()"
   ]
  },
  {
   "cell_type": "markdown",
   "id": "51709f48-e39c-4d84-923b-1a453285514e",
   "metadata": {},
   "source": [
    "Большинство пар новостей имеют очень малое семантическое расхождение (в интервале от 0 до 0.1). Вместе с тем на графике также видно небольшое количество пар с достаточно высоким расхождением (0.6-0.7). Следует подробнее изучить подробнее эти новости и выяснить, почему библиоетека выделила не всё."
   ]
  },
  {
   "cell_type": "code",
   "execution_count": 23,
   "id": "a8e29e0f-a022-456e-9f30-5237fb9cf6c5",
   "metadata": {
    "scrolled": true
   },
   "outputs": [
    {
     "data": {
      "image/png": "[encoded data removed]",
      "text/plain": [
       "<Figure size 640x480 with 1 Axes>"
      ]
     },
     "metadata": {},
     "output_type": "display_data"
    }
   ],
   "source": [
    "data['tfidf_significance'].hist(bins=40, color='lightblue', edgecolor='black')\n",
    "plt.title(\"Распределение суммарной TF-IDF-значимость\")\n",
    "plt.xlabel(\"Суммарная TF-IDF-значимость\")\n",
    "plt.ylabel(\"Количество новостей\")\n",
    "plt.grid(True)\n",
    "plt.show()"
   ]
  },
  {
   "cell_type": "markdown",
   "id": "93056d22-ce0d-4786-9586-3c6ef03d83c9",
   "metadata": {},
   "source": [
    "На данном графике можно увидеть, как распределена значимость упущенных элементов новости на основе TF-IDF. В среднем значение между 1 и 1.25."
   ]
  },
  {
   "cell_type": "markdown",
   "id": "418de5b5-80df-455d-b3e4-4ead1c368825",
   "metadata": {},
   "source": [
    "## Вывод"
   ]
  },
  {
   "cell_type": "markdown",
   "id": "28fd1884-7a56-49ca-8a01-66d9bd44e229",
   "metadata": {},
   "source": [
    "Cемантическое расхождение даёт более полную картину касательно того, насколько значим тот текст, который выделит не удалось. Вместе с тем, суммарная TF-IFD в абсолютном представлении не даёт много информации, однако будет полезна при отслеживании тенденции работы библиотеки.\n",
    "\n",
    "**Рекомендации**:\n",
    "- Выбрать пороговое значение (например, 0.1–0.15) для автоматического выявления новостей, которые выделены не в достаточном в виде библиотекой\n",
    "- Подробнее изучить природу тех элемнтов где значимость упущенной информации высока"
   ]
  }
 ],
 "metadata": {
  "kernelspec": {
   "display_name": "Python 3 (ipykernel)",
   "language": "python",
   "name": "python3"
  },
  "language_info": {
   "codemirror_mode": {
    "name": "ipython",
    "version": 3
   },
   "file_extension": ".py",
   "mimetype": "text/x-python",
   "name": "python",
   "nbconvert_exporter": "python",
   "pygments_lexer": "ipython3",
   "version": "3.11.11"
  }
 },
 "nbformat": 4,
 "nbformat_minor": 5
}
